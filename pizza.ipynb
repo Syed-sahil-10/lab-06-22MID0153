{
 "cells": [
  {
   "cell_type": "code",
   "execution_count": null,
   "id": "91a24d70-a45c-4ac7-92b9-648c773a0674",
   "metadata": {},
   "outputs": [],
   "source": []
  },
  {
   "cell_type": "code",
   "execution_count": 9,
   "id": "590da8ba-aaba-4d90-974e-fbc14238cb44",
   "metadata": {},
   "outputs": [
    {
     "name": "stdout",
     "output_type": "stream",
     "text": [
      "\n",
      " making a 5-inch pizza with the following topppings:\n",
      "-sauce\n",
      "-mayo\n"
     ]
    }
   ],
   "source": [
    "def make_pizza(size,*toppings):\n",
    "    \"\"\"summarize pizza we are about to make\"\"\"\n",
    "    print(f\"\\n making a {size}-inch pizza with the following topppings:\")\n",
    "    for topping in toppings:\n",
    "        print(f\"-{topping}\")\n",
    "make_pizza(5,'sauce','mayo')"
   ]
  },
  {
   "cell_type": "code",
   "execution_count": null,
   "id": "60ad7188-b7c2-4ee8-9208-e0c9170ca0d6",
   "metadata": {},
   "outputs": [],
   "source": []
  },
  {
   "cell_type": "code",
   "execution_count": null,
   "id": "10ef604e-d01b-4b18-a1ec-b6efd1d80912",
   "metadata": {},
   "outputs": [],
   "source": []
  }
 ],
 "metadata": {
  "kernelspec": {
   "display_name": "Python 3 (ipykernel)",
   "language": "python",
   "name": "python3"
  },
  "language_info": {
   "codemirror_mode": {
    "name": "ipython",
    "version": 3
   },
   "file_extension": ".py",
   "mimetype": "text/x-python",
   "name": "python",
   "nbconvert_exporter": "python",
   "pygments_lexer": "ipython3",
   "version": "3.12.4"
  }
 },
 "nbformat": 4,
 "nbformat_minor": 5
}
