{
 "cells": [
  {
   "cell_type": "code",
   "execution_count": 5,
   "id": "96a5d56f-57c4-4f52-b6af-6e5c4ff27bef",
   "metadata": {},
   "outputs": [
    {
     "name": "stdout",
     "output_type": "stream",
     "text": [
      "\n",
      " I am inspired by lion\n",
      "\n",
      " I love cat\n"
     ]
    }
   ],
   "source": [
    "#keyword arguments\n",
    "def describe_pet(animal_type=\"lion\",pet_name=\"cat\"):\n",
    "    \"\"\"Display info abut a pet.\"\"\"\n",
    "    print(f\"\\n I am inspired by\",animal_type)\n",
    "    print(f\"\\n I love\",pet_name)\n",
    "\n",
    "describe_pet()"
   ]
  },
  {
   "cell_type": "code",
   "execution_count": 7,
   "id": "771bb653-b8fe-448e-be26-30efebac80ea",
   "metadata": {},
   "outputs": [
    {
     "name": "stdout",
     "output_type": "stream",
     "text": [
      "{'location': 'vellore', 'branch': 'physics', 'first_name': 'albert', 'last_name': 'einstein'}\n"
     ]
    }
   ],
   "source": [
    "#using sequence unpacking / using ** for dictionary\n",
    "def build_profile(first,last,**user_info):\n",
    "    \"build a dictionary containing everything we know about\"\n",
    "    user_info['first_name']=first\n",
    "    user_info['last_name']=last\n",
    "    return user_info\n",
    "user_profile=build_profile('albert','einstein',location='vellore',branch='physics')\n",
    "print(user_profile)"
   ]
  },
  {
   "cell_type": "code",
   "execution_count": 10,
   "id": "6a734707-4c27-4c1b-8cb2-37463449e531",
   "metadata": {},
   "outputs": [
    {
     "name": "stdout",
     "output_type": "stream",
     "text": [
      "Requirement already satisfied: nbimporter in /home/software/software/lib/python3.12/site-packages (0.3.4)\n"
     ]
    }
   ],
   "source": [
    "!pip install nbimporter"
   ]
  },
  {
   "cell_type": "code",
   "execution_count": 11,
   "id": "350dcae0-f347-4eb1-ae18-06aff20e6995",
   "metadata": {},
   "outputs": [],
   "source": [
    "import nbimporter"
   ]
  },
  {
   "cell_type": "code",
   "execution_count": 14,
   "id": "380b2287-67e1-44bc-b64a-361af05d998f",
   "metadata": {},
   "outputs": [
    {
     "name": "stdout",
     "output_type": "stream",
     "text": [
      "\n",
      " making a 5-inch pizza with the following topppings:\n",
      "-sauce\n",
      "-mayo\n"
     ]
    }
   ],
   "source": [
    "import sahil"
   ]
  },
  {
   "cell_type": "code",
   "execution_count": 16,
   "id": "bea15796-6a54-437d-a683-c46997ed236c",
   "metadata": {},
   "outputs": [
    {
     "name": "stdout",
     "output_type": "stream",
     "text": [
      "\n",
      " making a 5-inch pizza with the following topppings:\n",
      "-sauce\n",
      "-mayo\n"
     ]
    }
   ],
   "source": [
    "sahil.make_pizza(5,'sauce','mayo')"
   ]
  },
  {
   "cell_type": "code",
   "execution_count": null,
   "id": "176de5c6-2ce3-4d7e-bcc6-6a0e34dfe5bd",
   "metadata": {},
   "outputs": [],
   "source": []
  }
 ],
 "metadata": {
  "kernelspec": {
   "display_name": "Python 3 (ipykernel)",
   "language": "python",
   "name": "python3"
  },
  "language_info": {
   "codemirror_mode": {
    "name": "ipython",
    "version": 3
   },
   "file_extension": ".py",
   "mimetype": "text/x-python",
   "name": "python",
   "nbconvert_exporter": "python",
   "pygments_lexer": "ipython3",
   "version": "3.12.4"
  }
 },
 "nbformat": 4,
 "nbformat_minor": 5
}
